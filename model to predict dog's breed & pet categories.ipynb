{
 "cells": [
  {
   "cell_type": "code",
   "execution_count": 54,
   "metadata": {},
   "outputs": [],
   "source": [
    "# importing manadatory libraries\n",
    "import numpy as np\n",
    "import pandas as pd\n",
    "import matplotlib.pyplot as plt\n",
    "import seaborn as sns"
   ]
  },
  {
   "cell_type": "code",
   "execution_count": 55,
   "metadata": {},
   "outputs": [],
   "source": [
    "# reading the dataset using pandas\n",
    "df = pd.read_csv('C:\\\\Users\\\\swasa\\\\Desktop\\\\Dataset2\\\\train.csv')"
   ]
  },
  {
   "cell_type": "code",
   "execution_count": 56,
   "metadata": {
    "scrolled": true
   },
   "outputs": [
    {
     "data": {
      "text/html": [
       "<div>\n",
       "<style scoped>\n",
       "    .dataframe tbody tr th:only-of-type {\n",
       "        vertical-align: middle;\n",
       "    }\n",
       "\n",
       "    .dataframe tbody tr th {\n",
       "        vertical-align: top;\n",
       "    }\n",
       "\n",
       "    .dataframe thead th {\n",
       "        text-align: right;\n",
       "    }\n",
       "</style>\n",
       "<table border=\"1\" class=\"dataframe\">\n",
       "  <thead>\n",
       "    <tr style=\"text-align: right;\">\n",
       "      <th></th>\n",
       "      <th>pet_id</th>\n",
       "      <th>issue_date</th>\n",
       "      <th>listing_date</th>\n",
       "      <th>condition</th>\n",
       "      <th>color_type</th>\n",
       "      <th>length(m)</th>\n",
       "      <th>height(cm)</th>\n",
       "      <th>X1</th>\n",
       "      <th>X2</th>\n",
       "      <th>breed_category</th>\n",
       "      <th>pet_category</th>\n",
       "    </tr>\n",
       "  </thead>\n",
       "  <tbody>\n",
       "    <tr>\n",
       "      <td>0</td>\n",
       "      <td>ANSL_69903</td>\n",
       "      <td>2016-07-10 00:00:00</td>\n",
       "      <td>2016-09-21 16:25:00</td>\n",
       "      <td>2.0</td>\n",
       "      <td>Brown Tabby</td>\n",
       "      <td>0.80</td>\n",
       "      <td>7.78</td>\n",
       "      <td>13</td>\n",
       "      <td>9</td>\n",
       "      <td>0.0</td>\n",
       "      <td>1</td>\n",
       "    </tr>\n",
       "    <tr>\n",
       "      <td>1</td>\n",
       "      <td>ANSL_66892</td>\n",
       "      <td>2013-11-21 00:00:00</td>\n",
       "      <td>2018-12-27 17:47:00</td>\n",
       "      <td>1.0</td>\n",
       "      <td>White</td>\n",
       "      <td>0.72</td>\n",
       "      <td>14.19</td>\n",
       "      <td>13</td>\n",
       "      <td>9</td>\n",
       "      <td>0.0</td>\n",
       "      <td>2</td>\n",
       "    </tr>\n",
       "    <tr>\n",
       "      <td>2</td>\n",
       "      <td>ANSL_69750</td>\n",
       "      <td>2014-09-28 00:00:00</td>\n",
       "      <td>2016-10-19 08:24:00</td>\n",
       "      <td>NaN</td>\n",
       "      <td>Brown</td>\n",
       "      <td>0.15</td>\n",
       "      <td>40.90</td>\n",
       "      <td>15</td>\n",
       "      <td>4</td>\n",
       "      <td>2.0</td>\n",
       "      <td>4</td>\n",
       "    </tr>\n",
       "    <tr>\n",
       "      <td>3</td>\n",
       "      <td>ANSL_71623</td>\n",
       "      <td>2016-12-31 00:00:00</td>\n",
       "      <td>2019-01-25 18:30:00</td>\n",
       "      <td>1.0</td>\n",
       "      <td>White</td>\n",
       "      <td>0.62</td>\n",
       "      <td>17.82</td>\n",
       "      <td>0</td>\n",
       "      <td>1</td>\n",
       "      <td>0.0</td>\n",
       "      <td>2</td>\n",
       "    </tr>\n",
       "    <tr>\n",
       "      <td>4</td>\n",
       "      <td>ANSL_57969</td>\n",
       "      <td>2017-09-28 00:00:00</td>\n",
       "      <td>2017-11-19 09:38:00</td>\n",
       "      <td>2.0</td>\n",
       "      <td>Black</td>\n",
       "      <td>0.50</td>\n",
       "      <td>11.06</td>\n",
       "      <td>18</td>\n",
       "      <td>4</td>\n",
       "      <td>0.0</td>\n",
       "      <td>1</td>\n",
       "    </tr>\n",
       "  </tbody>\n",
       "</table>\n",
       "</div>"
      ],
      "text/plain": [
       "       pet_id           issue_date         listing_date  condition  \\\n",
       "0  ANSL_69903  2016-07-10 00:00:00  2016-09-21 16:25:00        2.0   \n",
       "1  ANSL_66892  2013-11-21 00:00:00  2018-12-27 17:47:00        1.0   \n",
       "2  ANSL_69750  2014-09-28 00:00:00  2016-10-19 08:24:00        NaN   \n",
       "3  ANSL_71623  2016-12-31 00:00:00  2019-01-25 18:30:00        1.0   \n",
       "4  ANSL_57969  2017-09-28 00:00:00  2017-11-19 09:38:00        2.0   \n",
       "\n",
       "    color_type  length(m)  height(cm)  X1  X2  breed_category  pet_category  \n",
       "0  Brown Tabby       0.80        7.78  13   9             0.0             1  \n",
       "1        White       0.72       14.19  13   9             0.0             2  \n",
       "2        Brown       0.15       40.90  15   4             2.0             4  \n",
       "3        White       0.62       17.82   0   1             0.0             2  \n",
       "4        Black       0.50       11.06  18   4             0.0             1  "
      ]
     },
     "execution_count": 56,
     "metadata": {},
     "output_type": "execute_result"
    }
   ],
   "source": [
    "# Visulizing the dataset\n",
    "df.head()"
   ]
  },
  {
   "cell_type": "code",
   "execution_count": 57,
   "metadata": {},
   "outputs": [
    {
     "data": {
      "text/plain": [
       "(18834, 11)"
      ]
     },
     "execution_count": 57,
     "metadata": {},
     "output_type": "execute_result"
    }
   ],
   "source": [
    "# shape of the date-set(no.of rows, no.of columns)\n",
    "df.shape"
   ]
  },
  {
   "cell_type": "code",
   "execution_count": 58,
   "metadata": {},
   "outputs": [
    {
     "name": "stdout",
     "output_type": "stream",
     "text": [
      "<class 'pandas.core.frame.DataFrame'>\n",
      "RangeIndex: 18834 entries, 0 to 18833\n",
      "Data columns (total 11 columns):\n",
      "pet_id            18834 non-null object\n",
      "issue_date        18834 non-null object\n",
      "listing_date      18834 non-null object\n",
      "condition         17357 non-null float64\n",
      "color_type        18834 non-null object\n",
      "length(m)         18834 non-null float64\n",
      "height(cm)        18834 non-null float64\n",
      "X1                18834 non-null int64\n",
      "X2                18834 non-null int64\n",
      "breed_category    18834 non-null float64\n",
      "pet_category      18834 non-null int64\n",
      "dtypes: float64(4), int64(3), object(4)\n",
      "memory usage: 1.6+ MB\n"
     ]
    }
   ],
   "source": [
    "#cheking the data types of all features\n",
    "df.info()"
   ]
  },
  {
   "cell_type": "code",
   "execution_count": 59,
   "metadata": {},
   "outputs": [
    {
     "data": {
      "text/plain": [
       "pet_id               0\n",
       "issue_date           0\n",
       "listing_date         0\n",
       "condition         1477\n",
       "color_type           0\n",
       "length(m)            0\n",
       "height(cm)           0\n",
       "X1                   0\n",
       "X2                   0\n",
       "breed_category       0\n",
       "pet_category         0\n",
       "dtype: int64"
      ]
     },
     "execution_count": 59,
     "metadata": {},
     "output_type": "execute_result"
    }
   ],
   "source": [
    "# Checking the null values\n",
    "df.isnull().sum()"
   ]
  },
  {
   "cell_type": "code",
   "execution_count": 60,
   "metadata": {},
   "outputs": [
    {
     "data": {
      "text/plain": [
       "<matplotlib.axes._subplots.AxesSubplot at 0x2303145dfc8>"
      ]
     },
     "execution_count": 60,
     "metadata": {},
     "output_type": "execute_result"
    },
    {
     "data": {
      "image/png": "[encoded data removed]",
      "text/plain": [
       "<Figure size 432x288 with 1 Axes>"
      ]
     },
     "metadata": {
      "needs_background": "light"
     },
     "output_type": "display_data"
    }
   ],
   "source": [
    "# Visually cheking the null values\n",
    "sns.heatmap(df.isnull(),yticklabels = False,cbar = False,cmap = 'viridis')"
   ]
  },
  {
   "cell_type": "code",
   "execution_count": 61,
   "metadata": {},
   "outputs": [
    {
     "data": {
      "text/plain": [
       "0.0    9000\n",
       "1.0    8357\n",
       "2.0    1477\n",
       "Name: breed_category, dtype: int64"
      ]
     },
     "execution_count": 61,
     "metadata": {},
     "output_type": "execute_result"
    }
   ],
   "source": [
    "# checking the categories in the target variable\n",
    "df['breed_category'].value_counts()"
   ]
  },
  {
   "cell_type": "code",
   "execution_count": 62,
   "metadata": {},
   "outputs": [
    {
     "data": {
      "text/plain": [
       "<matplotlib.axes._subplots.AxesSubplot at 0x230314c00c8>"
      ]
     },
     "execution_count": 62,
     "metadata": {},
     "output_type": "execute_result"
    },
    {
     "data": {
      "image/png": "[encoded data removed]",
      "text/plain": [
       "<Figure size 432x288 with 1 Axes>"
      ]
     },
     "metadata": {
      "needs_background": "light"
     },
     "output_type": "display_data"
    }
   ],
   "source": [
    "# visully checking the categories in the target variable\n",
    "sns.countplot(x = 'breed_category', data = df)"
   ]
  },
  {
   "cell_type": "code",
   "execution_count": 63,
   "metadata": {},
   "outputs": [
    {
     "data": {
      "text/plain": [
       "2    10621\n",
       "1     7184\n",
       "4      941\n",
       "0       88\n",
       "Name: pet_category, dtype: int64"
      ]
     },
     "execution_count": 63,
     "metadata": {},
     "output_type": "execute_result"
    }
   ],
   "source": [
    "# checking the no.of categories in the target variable 2 \n",
    "df['pet_category'].value_counts()"
   ]
  },
  {
   "cell_type": "code",
   "execution_count": 64,
   "metadata": {},
   "outputs": [
    {
     "data": {
      "text/plain": [
       "<matplotlib.axes._subplots.AxesSubplot at 0x23031913f48>"
      ]
     },
     "execution_count": 64,
     "metadata": {},
     "output_type": "execute_result"
    },
    {
     "data": {
      "image/png": "[encoded data removed]",
      "text/plain": [
       "<Figure size 432x288 with 1 Axes>"
      ]
     },
     "metadata": {
      "needs_background": "light"
     },
     "output_type": "display_data"
    }
   ],
   "source": [
    "# visually checking the no.of categories in the target variable 2 \n",
    "sns.countplot(x = 'pet_category', data = df)"
   ]
  },
  {
   "cell_type": "code",
   "execution_count": 65,
   "metadata": {},
   "outputs": [
    {
     "data": {
      "text/plain": [
       "(5, 0)"
      ]
     },
     "execution_count": 65,
     "metadata": {},
     "output_type": "execute_result"
    },
    {
     "data": {
      "image/png": "[encoded data removed]",
      "text/plain": [
       "<Figure size 720x432 with 2 Axes>"
      ]
     },
     "metadata": {
      "needs_background": "light"
     },
     "output_type": "display_data"
    }
   ],
   "source": [
    "# visullay checking the correlation\n",
    "plt.figure(figsize = (10,6))\n",
    "sns.heatmap(df.corr(),cmap = 'viridis', annot  = True)\n",
    "plt.ylim(5,0)"
   ]
  },
  {
   "cell_type": "code",
   "execution_count": 66,
   "metadata": {},
   "outputs": [
    {
     "data": {
      "text/plain": [
       "condition      -0.483503\n",
       "length(m)       0.007229\n",
       "height(cm)      0.011647\n",
       "X2              0.052530\n",
       "pet_category    0.209230\n",
       "X1              0.240729\n",
       "Name: breed_category, dtype: float64"
      ]
     },
     "execution_count": 66,
     "metadata": {},
     "output_type": "execute_result"
    }
   ],
   "source": [
    "# checking the corelation of 'breed_category' with other features\n",
    "df.corr()['breed_category'].sort_values().drop('breed_category')"
   ]
  },
  {
   "cell_type": "code",
   "execution_count": 67,
   "metadata": {},
   "outputs": [
    {
     "data": {
      "text/plain": [
       "condition        -0.041660\n",
       "X1               -0.032594\n",
       "X2               -0.032116\n",
       "length(m)        -0.003999\n",
       "height(cm)        0.001976\n",
       "breed_category    0.209230\n",
       "Name: pet_category, dtype: float64"
      ]
     },
     "execution_count": 67,
     "metadata": {},
     "output_type": "execute_result"
    }
   ],
   "source": [
    "# checking the corelation of 'pet_category' with other features\n",
    "df.corr()['pet_category'].sort_values().drop('pet_category')"
   ]
  },
  {
   "cell_type": "markdown",
   "metadata": {},
   "source": [
    "from the above two outputs, I got to know that --> the two target variables are dependent on each other."
   ]
  },
  {
   "cell_type": "code",
   "execution_count": 68,
   "metadata": {},
   "outputs": [
    {
     "data": {
      "text/plain": [
       "1.0    6819\n",
       "0.0    6281\n",
       "2.0    4257\n",
       "Name: condition, dtype: int64"
      ]
     },
     "execution_count": 68,
     "metadata": {},
     "output_type": "execute_result"
    }
   ],
   "source": [
    "# Cheking no.of categories missing value feature\n",
    "df['condition'].value_counts()"
   ]
  },
  {
   "cell_type": "code",
   "execution_count": 69,
   "metadata": {},
   "outputs": [],
   "source": [
    "# replacing missing values with mean\n",
    "df['condition'].fillna(value = df['condition'].mean(), inplace = True)"
   ]
  },
  {
   "cell_type": "code",
   "execution_count": 70,
   "metadata": {},
   "outputs": [
    {
     "data": {
      "text/plain": [
       "pet_id            0\n",
       "issue_date        0\n",
       "listing_date      0\n",
       "condition         0\n",
       "color_type        0\n",
       "length(m)         0\n",
       "height(cm)        0\n",
       "X1                0\n",
       "X2                0\n",
       "breed_category    0\n",
       "pet_category      0\n",
       "dtype: int64"
      ]
     },
     "execution_count": 70,
     "metadata": {},
     "output_type": "execute_result"
    }
   ],
   "source": [
    "# rechecking the null_values\n",
    "df.isnull().sum()"
   ]
  },
  {
   "cell_type": "code",
   "execution_count": 71,
   "metadata": {},
   "outputs": [
    {
     "data": {
      "text/plain": [
       "<matplotlib.axes._subplots.AxesSubplot at 0x230315fde88>"
      ]
     },
     "execution_count": 71,
     "metadata": {},
     "output_type": "execute_result"
    },
    {
     "data": {
      "image/png": "[encoded data removed]",
      "text/plain": [
       "<Figure size 432x288 with 1 Axes>"
      ]
     },
     "metadata": {
      "needs_background": "light"
     },
     "output_type": "display_data"
    }
   ],
   "source": [
    "# Visually checking the null values\n",
    "sns.heatmap(df.isnull(),yticklabels = False,cbar = False,cmap = 'viridis')"
   ]
  },
  {
   "cell_type": "code",
   "execution_count": 72,
   "metadata": {},
   "outputs": [
    {
     "data": {
      "text/plain": [
       "Index(['pet_id', 'issue_date', 'listing_date', 'color_type'], dtype='object')"
      ]
     },
     "execution_count": 72,
     "metadata": {},
     "output_type": "execute_result"
    }
   ],
   "source": [
    "# viewing only 'object' data-type features\n",
    "df.select_dtypes(['object']).columns"
   ]
  },
  {
   "cell_type": "markdown",
   "metadata": {},
   "source": [
    "### Encoding"
   ]
  },
  {
   "cell_type": "code",
   "execution_count": 73,
   "metadata": {},
   "outputs": [
    {
     "data": {
      "text/plain": [
       "56"
      ]
     },
     "execution_count": 73,
     "metadata": {},
     "output_type": "execute_result"
    }
   ],
   "source": [
    "# checking the no.of categories in the color_type \n",
    "df['color_type'].value_counts().count()"
   ]
  },
  {
   "cell_type": "code",
   "execution_count": 74,
   "metadata": {},
   "outputs": [],
   "source": [
    "from sklearn.preprocessing import LabelEncoder\n",
    "df['label_encoded_color_type'] = LabelEncoder().fit_transform(df.color_type)"
   ]
  },
  {
   "cell_type": "code",
   "execution_count": 75,
   "metadata": {},
   "outputs": [],
   "source": [
    "df.drop('color_type', axis = 1, inplace = True)"
   ]
  },
  {
   "cell_type": "code",
   "execution_count": 76,
   "metadata": {},
   "outputs": [],
   "source": [
    "# taking year from the 'issue_date'\n",
    "df['issue_date'] = df['issue_date'].apply(lambda date: int(date[:4]))\n",
    "# taking year from the 'listing_date'\n",
    "df['listing_date'] = df['listing_date'].apply(lambda date: int(date[:4]))"
   ]
  },
  {
   "cell_type": "code",
   "execution_count": 77,
   "metadata": {},
   "outputs": [],
   "source": [
    "# I am droping the 'ped_it' feature because there is no use of this feature\n",
    "df.drop('pet_id', axis = 1, inplace = True)"
   ]
  },
  {
   "cell_type": "code",
   "execution_count": 78,
   "metadata": {},
   "outputs": [
    {
     "data": {
      "text/html": [
       "<div>\n",
       "<style scoped>\n",
       "    .dataframe tbody tr th:only-of-type {\n",
       "        vertical-align: middle;\n",
       "    }\n",
       "\n",
       "    .dataframe tbody tr th {\n",
       "        vertical-align: top;\n",
       "    }\n",
       "\n",
       "    .dataframe thead th {\n",
       "        text-align: right;\n",
       "    }\n",
       "</style>\n",
       "<table border=\"1\" class=\"dataframe\">\n",
       "  <thead>\n",
       "    <tr style=\"text-align: right;\">\n",
       "      <th></th>\n",
       "      <th>issue_date</th>\n",
       "      <th>listing_date</th>\n",
       "      <th>condition</th>\n",
       "      <th>length(m)</th>\n",
       "      <th>height(cm)</th>\n",
       "      <th>X1</th>\n",
       "      <th>X2</th>\n",
       "      <th>breed_category</th>\n",
       "      <th>pet_category</th>\n",
       "      <th>label_encoded_color_type</th>\n",
       "    </tr>\n",
       "  </thead>\n",
       "  <tbody>\n",
       "    <tr>\n",
       "      <td>0</td>\n",
       "      <td>2016</td>\n",
       "      <td>2016</td>\n",
       "      <td>2.00000</td>\n",
       "      <td>0.80</td>\n",
       "      <td>7.78</td>\n",
       "      <td>13</td>\n",
       "      <td>9</td>\n",
       "      <td>0.0</td>\n",
       "      <td>1</td>\n",
       "      <td>18</td>\n",
       "    </tr>\n",
       "    <tr>\n",
       "      <td>1</td>\n",
       "      <td>2013</td>\n",
       "      <td>2018</td>\n",
       "      <td>1.00000</td>\n",
       "      <td>0.72</td>\n",
       "      <td>14.19</td>\n",
       "      <td>13</td>\n",
       "      <td>9</td>\n",
       "      <td>0.0</td>\n",
       "      <td>2</td>\n",
       "      <td>53</td>\n",
       "    </tr>\n",
       "    <tr>\n",
       "      <td>2</td>\n",
       "      <td>2014</td>\n",
       "      <td>2016</td>\n",
       "      <td>0.88339</td>\n",
       "      <td>0.15</td>\n",
       "      <td>40.90</td>\n",
       "      <td>15</td>\n",
       "      <td>4</td>\n",
       "      <td>2.0</td>\n",
       "      <td>4</td>\n",
       "      <td>15</td>\n",
       "    </tr>\n",
       "    <tr>\n",
       "      <td>3</td>\n",
       "      <td>2016</td>\n",
       "      <td>2019</td>\n",
       "      <td>1.00000</td>\n",
       "      <td>0.62</td>\n",
       "      <td>17.82</td>\n",
       "      <td>0</td>\n",
       "      <td>1</td>\n",
       "      <td>0.0</td>\n",
       "      <td>2</td>\n",
       "      <td>53</td>\n",
       "    </tr>\n",
       "    <tr>\n",
       "      <td>4</td>\n",
       "      <td>2017</td>\n",
       "      <td>2017</td>\n",
       "      <td>2.00000</td>\n",
       "      <td>0.50</td>\n",
       "      <td>11.06</td>\n",
       "      <td>18</td>\n",
       "      <td>4</td>\n",
       "      <td>0.0</td>\n",
       "      <td>1</td>\n",
       "      <td>2</td>\n",
       "    </tr>\n",
       "  </tbody>\n",
       "</table>\n",
       "</div>"
      ],
      "text/plain": [
       "   issue_date  listing_date  condition  length(m)  height(cm)  X1  X2  \\\n",
       "0        2016          2016    2.00000       0.80        7.78  13   9   \n",
       "1        2013          2018    1.00000       0.72       14.19  13   9   \n",
       "2        2014          2016    0.88339       0.15       40.90  15   4   \n",
       "3        2016          2019    1.00000       0.62       17.82   0   1   \n",
       "4        2017          2017    2.00000       0.50       11.06  18   4   \n",
       "\n",
       "   breed_category  pet_category  label_encoded_color_type  \n",
       "0             0.0             1                        18  \n",
       "1             0.0             2                        53  \n",
       "2             2.0             4                        15  \n",
       "3             0.0             2                        53  \n",
       "4             0.0             1                         2  "
      ]
     },
     "execution_count": 78,
     "metadata": {},
     "output_type": "execute_result"
    }
   ],
   "source": [
    "df.head()"
   ]
  },
  {
   "cell_type": "code",
   "execution_count": 79,
   "metadata": {},
   "outputs": [],
   "source": [
    "# selecting dependent and independet features.\n",
    "X = df.drop(['breed_category','pet_category'], axis = 1)\n",
    "y = df['breed_category']"
   ]
  },
  {
   "cell_type": "code",
   "execution_count": 80,
   "metadata": {},
   "outputs": [],
   "source": [
    "from sklearn.model_selection import train_test_split\n",
    "X_train, X_test, y_train, y_test = train_test_split(X, y, test_size=0.3, random_state=42)"
   ]
  },
  {
   "cell_type": "code",
   "execution_count": 81,
   "metadata": {},
   "outputs": [
    {
     "name": "stdout",
     "output_type": "stream",
     "text": [
      "The number of classes before fit Counter({0.0: 6313, 1.0: 5837, 2.0: 1033})\n",
      "The number of classes after fit Counter({2.0: 5798, 0.0: 5509, 1.0: 5054})\n"
     ]
    }
   ],
   "source": [
    "from collections import Counter\n",
    "from imblearn.combine import SMOTETomek\n",
    "st=SMOTETomek({2.0: 5837})\n",
    "X_train_st,y_train_st=st.fit_sample(X_train,y_train)\n",
    "print(\"The number of classes before fit {}\".format(Counter(y_train)))\n",
    "print(\"The number of classes after fit {}\".format(Counter(y_train_st)))"
   ]
  },
  {
   "cell_type": "markdown",
   "metadata": {},
   "source": [
    "### model to predict the 'breed_category' only..."
   ]
  },
  {
   "cell_type": "code",
   "execution_count": 82,
   "metadata": {},
   "outputs": [
    {
     "data": {
      "text/plain": [
       "RandomForestClassifier(bootstrap=True, class_weight=None, criterion='gini',\n",
       "                       max_depth=None, max_features='auto', max_leaf_nodes=None,\n",
       "                       min_impurity_decrease=0.0, min_impurity_split=None,\n",
       "                       min_samples_leaf=1, min_samples_split=2,\n",
       "                       min_weight_fraction_leaf=0.0, n_estimators=300,\n",
       "                       n_jobs=None, oob_score=False, random_state=None,\n",
       "                       verbose=0, warm_start=False)"
      ]
     },
     "execution_count": 82,
     "metadata": {},
     "output_type": "execute_result"
    }
   ],
   "source": [
    "from sklearn.ensemble import RandomForestClassifier\n",
    "RFC = RandomForestClassifier(n_estimators=300)\n",
    "RFC.fit(X_train_st,y_train_st)"
   ]
  },
  {
   "cell_type": "code",
   "execution_count": 83,
   "metadata": {},
   "outputs": [
    {
     "name": "stdout",
     "output_type": "stream",
     "text": [
      "0.896301539550522\n",
      "              precision    recall  f1-score   support\n",
      "\n",
      "         0.0       0.87      0.92      0.89      2687\n",
      "         1.0       0.91      0.85      0.88      2520\n",
      "         2.0       1.00      1.00      1.00       444\n",
      "\n",
      "    accuracy                           0.90      5651\n",
      "   macro avg       0.93      0.92      0.92      5651\n",
      "weighted avg       0.90      0.90      0.90      5651\n",
      "\n",
      "[[2473  214    0]\n",
      " [ 372 2148    0]\n",
      " [   0    0  444]]\n"
     ]
    }
   ],
   "source": [
    "pred = RFC.predict(X_test)\n",
    "from sklearn.metrics import accuracy_score, confusion_matrix, classification_report\n",
    "print(accuracy_score(y_test,pred))\n",
    "print(classification_report(y_test,pred))\n",
    "print(confusion_matrix(y_test,pred))"
   ]
  },
  {
   "cell_type": "markdown",
   "metadata": {},
   "source": [
    "### model to predict the 'pet_category'"
   ]
  },
  {
   "cell_type": "code",
   "execution_count": 84,
   "metadata": {},
   "outputs": [],
   "source": [
    "# though the 'breed-category' feature is highly correlated on 'pet_category', I am not considering. \n",
    "# beacuse the test.csv doesn't consist of breed-category\n",
    "# selecting dependent and independet features.\n",
    "A = df.drop(['breed_category','pet_category'], axis = 1)\n",
    "b = df['pet_category']"
   ]
  },
  {
   "cell_type": "code",
   "execution_count": 85,
   "metadata": {},
   "outputs": [],
   "source": [
    "# train, test split\n",
    "A_train, A_test, b_train, b_test = train_test_split(A, b, test_size=0.3, random_state=42)"
   ]
  },
  {
   "cell_type": "code",
   "execution_count": 86,
   "metadata": {},
   "outputs": [
    {
     "name": "stdout",
     "output_type": "stream",
     "text": [
      "The number of classes before fit Counter({2: 7378, 1: 5090, 4: 655, 0: 60})\n",
      "The number of classes after fit Counter({2: 6843, 0: 6488, 4: 6455, 1: 5572})\n"
     ]
    }
   ],
   "source": [
    "# Dealing with imbalanced data-set\n",
    "smt=SMOTETomek({2: 7378, 1: 6090, 4: 6500, 0:6500})\n",
    "A_train_smt,b_train_smt=smt.fit_sample(A_train,b_train)\n",
    "print(\"The number of classes before fit {}\".format(Counter(b_train)))\n",
    "print(\"The number of classes after fit {}\".format(Counter(b_train_smt)))"
   ]
  },
  {
   "cell_type": "code",
   "execution_count": 87,
   "metadata": {},
   "outputs": [
    {
     "data": {
      "text/plain": [
       "RandomForestClassifier(bootstrap=True, class_weight=None, criterion='gini',\n",
       "                       max_depth=None, max_features='auto', max_leaf_nodes=None,\n",
       "                       min_impurity_decrease=0.0, min_impurity_split=None,\n",
       "                       min_samples_leaf=1, min_samples_split=2,\n",
       "                       min_weight_fraction_leaf=0.0, n_estimators=300,\n",
       "                       n_jobs=None, oob_score=False, random_state=None,\n",
       "                       verbose=0, warm_start=False)"
      ]
     },
     "execution_count": 87,
     "metadata": {},
     "output_type": "execute_result"
    }
   ],
   "source": [
    "rfc = RandomForestClassifier(n_estimators=300)\n",
    "rfc.fit(A_train_smt,b_train_smt)"
   ]
  },
  {
   "cell_type": "code",
   "execution_count": 88,
   "metadata": {},
   "outputs": [
    {
     "name": "stdout",
     "output_type": "stream",
     "text": [
      "0.8446292691559016\n",
      "              precision    recall  f1-score   support\n",
      "\n",
      "           0       0.47      0.32      0.38        28\n",
      "           1       0.83      0.77      0.80      2094\n",
      "           2       0.86      0.90      0.88      3243\n",
      "           4       0.84      0.77      0.80       286\n",
      "\n",
      "    accuracy                           0.84      5651\n",
      "   macro avg       0.75      0.69      0.72      5651\n",
      "weighted avg       0.84      0.84      0.84      5651\n",
      "\n",
      "[[   9    3    6   10]\n",
      " [   3 1622  447   22]\n",
      " [   3  307 2923   10]\n",
      " [   4   26   37  219]]\n"
     ]
    }
   ],
   "source": [
    "predictions = rfc.predict(A_test)\n",
    "print(accuracy_score(b_test,predictions))\n",
    "print(classification_report(b_test,predictions))\n",
    "print(confusion_matrix(b_test,predictions))"
   ]
  }
 ],
 "metadata": {
  "kernelspec": {
   "display_name": "Python 3",
   "language": "python",
   "name": "python3"
  },
  "language_info": {
   "codemirror_mode": {
    "name": "ipython",
    "version": 3
   },
   "file_extension": ".py",
   "mimetype": "text/x-python",
   "name": "python",
   "nbconvert_exporter": "python",
   "pygments_lexer": "ipython3",
   "version": "3.7.4"
  }
 },
 "nbformat": 4,
 "nbformat_minor": 2
}
